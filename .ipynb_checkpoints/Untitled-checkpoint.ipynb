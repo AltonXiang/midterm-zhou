{
 "cells": [
  {
   "cell_type": "code",
   "execution_count": 4,
   "id": "4b507610",
   "metadata": {},
   "outputs": [],
   "source": [
    "from cgi import test\n",
    "import numpy as np\n",
    "import torch\n",
    "import torch.nn as nn\n",
    "import torch.nn.functional as F\n",
    "import torch.optim as optim\n",
    "import torchvision.utils as vutils\n",
    "import torchvision\n",
    "import torchvision.transforms as transforms\n",
    "import tqdm\n",
    "from resnetmodel.res_mine import *\n",
    "from tqdm import trange\n",
    "from utils import *"
   ]
  },
  {
   "cell_type": "code",
   "execution_count": 6,
   "id": "4d74b18b",
   "metadata": {},
   "outputs": [],
   "source": [
    "baseline_data = torch.load('baseline.pth')\n",
    "torch.save(baseline_data,'baseline.pth')"
   ]
  },
  {
   "cell_type": "code",
   "execution_count": 7,
   "id": "90568a8b",
   "metadata": {},
   "outputs": [],
   "source": [
    "baseline_data = torch.load('baseline_aug_data.pth')\n",
    "torch.save(baseline_data,'baseline_aug_data.pth')"
   ]
  },
  {
   "cell_type": "code",
   "execution_count": 8,
   "id": "c83894ff",
   "metadata": {},
   "outputs": [],
   "source": [
    "baseline_data = torch.load('baseline_cutout_data.pth')\n",
    "torch.save(baseline_data,'baseline_cutout_data.pth')"
   ]
  },
  {
   "cell_type": "code",
   "execution_count": 9,
   "id": "ad2615c5",
   "metadata": {},
   "outputs": [],
   "source": [
    "baseline_data = torch.load('baseline_mixup_data.pth')\n",
    "torch.save(baseline_data,'baseline_mixup_data.pth')"
   ]
  },
  {
   "cell_type": "code",
   "execution_count": 10,
   "id": "2b06fefc",
   "metadata": {},
   "outputs": [],
   "source": [
    "baseline_data = torch.load('cutmix_data.pth')\n",
    "torch.save(baseline_data,'cutmix_data.pth')"
   ]
  },
  {
   "cell_type": "code",
   "execution_count": 11,
   "id": "9242ab41",
   "metadata": {},
   "outputs": [],
   "source": [
    "baseline_data = torch.load('cutmixonly_data.pth')\n",
    "torch.save(baseline_data,'cutmixonly_data.pth')"
   ]
  },
  {
   "cell_type": "code",
   "execution_count": 12,
   "id": "d0f56dd5",
   "metadata": {},
   "outputs": [],
   "source": [
    "baseline_data = torch.load('cutoutonly_data.pth')\n",
    "torch.save(baseline_data,'cutoutonly_data.pth')"
   ]
  },
  {
   "cell_type": "code",
   "execution_count": 13,
   "id": "f8f531fa",
   "metadata": {},
   "outputs": [],
   "source": [
    "baseline_data = torch.load('cutoutnew_data.pth')\n",
    "torch.save(baseline_data,'cutoutnew_data.pth')"
   ]
  },
  {
   "cell_type": "code",
   "execution_count": 14,
   "id": "bafb1151",
   "metadata": {},
   "outputs": [],
   "source": [
    "baseline_data = torch.load('mixup_v3_data.pth')\n",
    "torch.save(baseline_data,'mixup_v3_data.pth')"
   ]
  },
  {
   "cell_type": "code",
   "execution_count": 16,
   "id": "9bd9469b",
   "metadata": {},
   "outputs": [],
   "source": [
    "baseline_data = torch.load('mixuponly_data.pth')\n",
    "torch.save(baseline_data,'mixuponly_data.pth')"
   ]
  },
  {
   "cell_type": "code",
   "execution_count": null,
   "id": "4464883f",
   "metadata": {},
   "outputs": [],
   "source": [
    "model = ResNet_mine(Bottleneck, [12, 12, 12], num_classes=100)\n",
    "model.load_state_dict(torch.load('resnet_cutmix.pt')) \n",
    "net = model.cuda()\n",
    "model.load_state_dict(torch.load('resnet_cutmix.pth')) "
   ]
  }
 ],
 "metadata": {
  "kernelspec": {
   "display_name": "d2l",
   "language": "python",
   "name": "d2l"
  },
  "language_info": {
   "codemirror_mode": {
    "name": "ipython",
    "version": 3
   },
   "file_extension": ".py",
   "mimetype": "text/x-python",
   "name": "python",
   "nbconvert_exporter": "python",
   "pygments_lexer": "ipython3",
   "version": "3.9.16"
  }
 },
 "nbformat": 4,
 "nbformat_minor": 5
}
